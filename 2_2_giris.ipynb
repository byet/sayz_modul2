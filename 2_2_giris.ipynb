{
 "cells": [
  {
   "cell_type": "markdown",
   "metadata": {},
   "source": [
    "# Jupyter Notebook'a Giriş\n",
    "\n",
    "Bir web tarayıcısında çalışan etkileşimli bir not defteri (jupyter notebook) kullanarak 'python' kodunu çalıştıracağız. Python kodu birçok şekilde çalıştırılabilir. Bir Python programını çalıştırmak için mutlaka bir Jupyter notebook'a ihtiyacınız yoktur. Ancak notebook'un veri analizi açısından iki avantajı vardır:\n",
    " 1. Bir web tarayıcısında çalışır ve veri analiz programınız tarafından oluşturulan grafiklerin görüntülenmesini kolaylaştırır.\n",
    " 2. Program kodu, analiz sonuçlarını açıklayan biçimlendirilmiş metinle birleştirilmiştir. Bizi sadece kod değil, bir rapor oluşturmamıza yardımcı olur.\n",
    "\n",
    "Bu kısa not defterinin amacı not defterlerinin yeteneklerini tanıtmaktır.\n",
    "\n",
    "\n",
    "Notebook'da hücre dediğimiz kutular vardır. İki çeşit hücre çeşidi vardır\n",
    "\n",
    "- **Kod hücreleri**: bunlarda Python kodu yazıp çalıştırabiliriz\n",
    "- **Metin hücreleri**: bunlara açıklayıcı metinler ekleyebiliriz.\n",
    "\n",
    "## İlk program.\n",
    "\n",
    "Aşağıdaki hücreye tıklayıp\n",
    "\n",
    "- 'Hücreyi çalıştır' ▶️ tuşuna bastığınızda veya\n",
    "- Klavyede Ctrl+Enter'a bastığınızda\n",
    "\n",
    "hücre çalıştırılır.\n",
    "\n",
    "🕯️ Aşağıda 'Merhaba' yazısını değiştirip örn. 'Hoşgeldiniz' tekrar çalıştırın.\n"
   ]
  },
  {
   "cell_type": "code",
   "execution_count": null,
   "metadata": {},
   "outputs": [],
   "source": [
    "print('Merhaba')"
   ]
  },
  {
   "cell_type": "markdown",
   "metadata": {},
   "source": [
    "Yeni hücre eklemel için\n",
    "\n",
    "- Üst menü'de `+ Kod` ve `+ Metin` tuşlarına basabilir,\n",
    "- Üst menü'den `Ekle > Kod Hücresi` seçebilir,\n",
    "- Klavyede Shift+Enter'a basabilirsiniz.\n",
    "\n",
    "🕯️ Yeni bir hücre ekleyip matematiksel bir işlem yapın. Örneğin, `4 * 3 / (2 - 5) + 4`"
   ]
  },
  {
   "cell_type": "markdown",
   "metadata": {},
   "source": [
    "## Değişken Tanımlamak\n",
    "\n",
    "Daha ilginç şeyler yapmak için genellikle miktarları daha sonra hatırlamak gerekli olur. Takip etmeyi dene\n",
    "\n",
    "* Bunun altında yeni bir hücre oluşturun\n",
    "* Bu hücreye `x = 3` yazın ve hücreyi çalıştırın\n",
    "\n",
    "🕯️ Bu sefer çıktı olmadığını fark edeceksiniz. Bunun nedeni x'e 3 değerini atamış olmamızdır. Başka bir hücre oluşturun, 'x' yazın ve hücreyi çalıştırın. Bu sefer 3 çıktısını görmelisiniz."
   ]
  },
  {
   "cell_type": "markdown",
   "metadata": {},
   "source": [
    "## Markdown ile Metin Hücreleri HAzırlamak\n",
    "\n",
    "**Metin** blokları içine *Markdown* dili ile metin yazdığınızda, bunlar güzel görünür şekilde biçimlendirilir. \n",
    "\n",
    "- Markdown cheatsheet: https://www.markdownguide.org/cheat-sheet/\n",
    "- Markdown rehberi (Türkçe): https://github.com/kaymal/Markdown\n",
    "\n",
    "Markdown ile başlıklar, kalın ve italik gibi font stilleri ve sayılı veya sayılı olmayan maddeler, emojiler vs. yazabilirsiniz. Yukarıda herhangi bir metin hücresine çift tıklayarak, o metin hücresinin markdown'da nasıl yazıldığını görebilirsiniz.\n",
    "\n",
    "Örneğin aşağıdaki şekilde yazılmış bir metin hücresi \n",
    "\n",
    "~~~~markdown\n",
    "# Bölüm 1\n",
    "Bu metinde **kalın**, *italik* ve `kod` şeklinde gösterilen yerler:\n",
    "- dikkatlice\n",
    "- gözden geçirilmeli\n",
    "~~~~\n",
    "\n",
    "şu şekilde gözükecektir.\n",
    "\n",
    "# Bölüm 1\n",
    "Bu metinde **kalın**, *italik* ve `kod` şeklinde gösterilen yerler:\n",
    "- dikkatlice\n",
    "- gözden geçirilmeli\n",
    "\n",
    "\n",
    "🕯️ bir metin hücresi oluşturun, buraya markdown ile başlık, alt başlık, kalın ve italik metin ve maddeler ekleyin.\n"
   ]
  },
  {
   "cell_type": "markdown",
   "metadata": {},
   "source": []
  }
 ],
 "metadata": {
  "kernelspec": {
   "display_name": "pymc",
   "language": "python",
   "name": "python3"
  },
  "language_info": {
   "codemirror_mode": {
    "name": "ipython",
    "version": 3
   },
   "file_extension": ".py",
   "mimetype": "text/x-python",
   "name": "python",
   "nbconvert_exporter": "python",
   "pygments_lexer": "ipython3",
   "version": "3.11.5"
  }
 },
 "nbformat": 4,
 "nbformat_minor": 2
}
