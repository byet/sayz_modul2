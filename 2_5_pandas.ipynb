{
 "cells": [
  {
   "cell_type": "code",
   "execution_count": null,
   "metadata": {},
   "outputs": [],
   "source": [
    "import pandas as pd"
   ]
  },
  {
   "cell_type": "markdown",
   "metadata": {},
   "source": [
    "**Sağlıkta Yapay Zeka Uygulama Temelleri Sertifika Programı (SAYZ)**  \n",
    "\n",
    "<br>\n",
    "\n",
    "Modül 2.5\n",
    "\n",
    "# `pandas` ile veri manipülasyonu\n",
    "\n",
    "> 09/06/2024\n",
    "> *Doç. Dr. Barbaros Yet*\n",
    "\n",
    "> **Pandas eğitimleri**\n",
    "> - https://youtu.be/vmEHCJofslg?si=gVLHUQwBXRwFtcyf\n",
    "> - https://youtu.be/e60ItwlZTKM?si=q_ScScIrANYxq5nD\n",
    "> - https://wesmckinney.com/book/\n",
    "\n",
    "## Pandas veri yapıları\n",
    "\n",
    "1. Seri\n",
    "2. Dataframe (Data çerçevesi)\n",
    "\n",
    "\n",
    "## Seriler\n",
    "\n",
    "Seriler tek boyutlu veri yapılarıdır. Seriler eksen etiketlerine sahip olabilir ve herhangi bir Python nesnesini tutabilirler (yalnızca sayısal verileri tutmak yerine)."
   ]
  },
  {
   "cell_type": "code",
   "execution_count": null,
   "metadata": {},
   "outputs": [],
   "source": [
    "ser = pd.Series(data=[30,50,70], index=[\"x\",\"y\",\"z\"])\n",
    "display(ser)"
   ]
  },
  {
   "cell_type": "markdown",
   "metadata": {},
   "source": [
    "Seri elemanlarını hem indeks numarası hem de etiketleri ile alabiliriz."
   ]
  },
  {
   "cell_type": "code",
   "execution_count": null,
   "metadata": {},
   "outputs": [],
   "source": [
    "ser[\"x\"]"
   ]
  },
  {
   "cell_type": "code",
   "execution_count": null,
   "metadata": {},
   "outputs": [],
   "source": [
    "ser.iloc[1]"
   ]
  },
  {
   "cell_type": "markdown",
   "metadata": {},
   "source": [
    "İki seri ile işlem indekslere göre yapılır"
   ]
  },
  {
   "cell_type": "code",
   "execution_count": null,
   "metadata": {},
   "outputs": [],
   "source": [
    "ser2 = pd.Series({'q': 16, 'w':5, 'x':-15, 'y':12})\n",
    "\n",
    "ser + ser2"
   ]
  },
  {
   "cell_type": "markdown",
   "metadata": {},
   "source": [
    "## Dataframe (Veri Çerçevesi)\n",
    "\n",
    "Dataframe, sütun ve satırların dizin etiketlerine sahip olabildiği ve *her sütunun* farklı türdeki verileri (sayısal, metin, nesne vb.) depolayabildiği iki boyutlu veri yapılarıdır."
   ]
  },
  {
   "cell_type": "code",
   "execution_count": null,
   "metadata": {},
   "outputs": [],
   "source": [
    "df = pd.DataFrame({'Soyadı' : ['Simpsonn', 'Hunter', 'Harvey', 'Snow'],\n",
    "                   'Bölüm': ['Anestezi', 'Cerrahi', 'Fizyoloji', 'Epidemiyoloji'],\n",
    "                   'Yıl': [3, 3, 4, 5],\n",
    "                   'Not': [9, 7, 10, 9]})"
   ]
  },
  {
   "cell_type": "markdown",
   "metadata": {},
   "source": [
    "## Sütunlar\n",
    "\n",
    "Sütunları ismiyle seçebiliriz"
   ]
  },
  {
   "cell_type": "code",
   "execution_count": null,
   "metadata": {},
   "outputs": [],
   "source": [
    "df[['Bölüm','Not']]"
   ]
  },
  {
   "cell_type": "markdown",
   "metadata": {},
   "source": [
    "🕯️ 'Yıl' isimli sütunu seçin"
   ]
  },
  {
   "cell_type": "code",
   "execution_count": null,
   "metadata": {},
   "outputs": [],
   "source": []
  },
  {
   "cell_type": "markdown",
   "metadata": {},
   "source": [
    "Yeni sütunlar yaratma"
   ]
  },
  {
   "cell_type": "code",
   "execution_count": null,
   "metadata": {},
   "outputs": [],
   "source": [
    "df['Not/Yıl'] = df['Not'] / df['Yıl']\n",
    "df"
   ]
  },
  {
   "cell_type": "markdown",
   "metadata": {},
   "source": [
    "🕯️ Yıl'ı 10'a bölerek `Std_Yıl` isimli yeni bir sütun yaratın"
   ]
  },
  {
   "cell_type": "code",
   "execution_count": null,
   "metadata": {},
   "outputs": [],
   "source": []
  },
  {
   "cell_type": "markdown",
   "metadata": {},
   "source": [
    "### Satırlar\n",
    "\n",
    "Satırlara index ismi verebiliriz. Aşağıda `dfi` dataframe'inde satırlara isim verdik."
   ]
  },
  {
   "cell_type": "code",
   "execution_count": null,
   "metadata": {},
   "outputs": [],
   "source": [
    "dfi = df.set_index(pd.Index([\"Hekim_A\", \"Hekim_B\", \"Hekim_C\", \"Hekim_D\"]))"
   ]
  },
  {
   "cell_type": "code",
   "execution_count": null,
   "metadata": {},
   "outputs": [],
   "source": [
    "dfi"
   ]
  },
  {
   "cell_type": "markdown",
   "metadata": {},
   "source": [
    "Satırları:\n",
    "- `loc` kullanarak indeks ismi ile\n",
    "~~~python\n",
    "dfi.loc([\"Hekim_A\"])\n",
    "~~~\n",
    "- `iloc` kullanarak indeks numarası ile seçebiliriz\n",
    "~~~python\n",
    "dfi.iloc[1]\n",
    "~~~\n",
    "\n",
    "> Python'da indeksler sıfırdan başlar. Bir dizinin 1. elemanın indeksi 0'dır. 2. elemanının indeksi birdir. Örn, `dfi.iloc[1]` 2. satırı seçer.\n",
    "\n",
    "<br>\n",
    "\n",
    "🕯️ `dfi`'da `\"Hekim_C\"` isimli satırı seçin."
   ]
  },
  {
   "cell_type": "code",
   "execution_count": null,
   "metadata": {},
   "outputs": [],
   "source": []
  },
  {
   "cell_type": "markdown",
   "metadata": {},
   "source": [
    "🕯️ `dfi`'da 1. satırı seçin."
   ]
  },
  {
   "cell_type": "code",
   "execution_count": null,
   "metadata": {},
   "outputs": [],
   "source": []
  },
  {
   "cell_type": "markdown",
   "metadata": {},
   "source": [
    "🕯️ `dfi`'da 1. ve 3. satırı seçin."
   ]
  },
  {
   "cell_type": "code",
   "execution_count": null,
   "metadata": {},
   "outputs": [],
   "source": []
  },
  {
   "cell_type": "markdown",
   "metadata": {},
   "source": [
    "### Satır ve Sütun Seçme\n",
    "\n",
    "Aşağıda satır ve sütun seçme için değişik yöntemler var\n"
   ]
  },
  {
   "cell_type": "code",
   "execution_count": null,
   "metadata": {},
   "outputs": [],
   "source": [
    "dfi['Not']['Hekim_A']"
   ]
  },
  {
   "cell_type": "code",
   "execution_count": null,
   "metadata": {},
   "outputs": [],
   "source": [
    "dfi.loc['Hekim_A','Not']\n"
   ]
  },
  {
   "cell_type": "code",
   "execution_count": null,
   "metadata": {},
   "outputs": [],
   "source": [
    "dfi.iloc[1,2]\n"
   ]
  },
  {
   "cell_type": "code",
   "execution_count": null,
   "metadata": {},
   "outputs": [],
   "source": [
    "dfi.loc[['Hekim_A','Hekim_C'],['Not','Bölüm']]\n"
   ]
  },
  {
   "cell_type": "markdown",
   "metadata": {},
   "source": [
    "🕯️ `dfi`'da 1. ve 3. satırı ve 2. ve 3. sütunu seçin."
   ]
  },
  {
   "cell_type": "code",
   "execution_count": null,
   "metadata": {},
   "outputs": [],
   "source": []
  },
  {
   "cell_type": "markdown",
   "metadata": {},
   "source": [
    "### Değer girme/değiştirme\n",
    "\n",
    "Bir satır ve sütundaki değeri isimleriyle veya endeks numaralarıyla yeni değer atayabiliriz. Örneğin aşağıda `Hekim_A` 'nın `Not`'u  7 olarak değiştiriliyor."
   ]
  },
  {
   "cell_type": "code",
   "execution_count": null,
   "metadata": {},
   "outputs": [],
   "source": [
    "dfi.loc['Hekim_A','Not'] = 7"
   ]
  },
  {
   "cell_type": "markdown",
   "metadata": {},
   "source": [
    "🕯️ Aynı işlemi endeks numaralarıyla `iloc` ile de yapabiliriz. 1. Öğrencinin soyadı yanlış yazılmış. 1. Öğrencinin soyadını `\"Simpson\"` olarak değiştirin (0 endeksli satır ve sütundaki değer)."
   ]
  },
  {
   "cell_type": "code",
   "execution_count": null,
   "metadata": {},
   "outputs": [],
   "source": []
  },
  {
   "cell_type": "markdown",
   "metadata": {},
   "source": [
    "### Koşullu seçme\n",
    "\n",
    "Sütunlarda\n",
    "\n",
    "- `>` büyüktür\n",
    "- `<` küçüktür\n",
    "- `==` eşittir\n",
    "- `>=` büyük veya eşittir\n",
    "- `<=` küçük veya eşittir\n",
    "- `&` ve\n",
    "- `|` veya\n",
    "\n",
    "işleçleri kullanılarak koşullu seçim yapılabilir. \n",
    "\n",
    "Örneğin:\n",
    "\n",
    "Notu 8'den büyük olanlar"
   ]
  },
  {
   "cell_type": "code",
   "execution_count": null,
   "metadata": {},
   "outputs": [],
   "source": [
    "dfi.loc[(dfi['Not'] > 8)]"
   ]
  },
  {
   "cell_type": "markdown",
   "metadata": {},
   "source": [
    "3. Yıl'da olanlar"
   ]
  },
  {
   "cell_type": "code",
   "execution_count": null,
   "metadata": {},
   "outputs": [],
   "source": [
    "dfi.loc[(dfi['Yıl'] == 3)]"
   ]
  },
  {
   "cell_type": "markdown",
   "metadata": {},
   "source": [
    "🕯️ Notu 8'den büyük **ve** 3. sınıfta olanları seçin."
   ]
  },
  {
   "cell_type": "code",
   "execution_count": null,
   "metadata": {},
   "outputs": [],
   "source": []
  },
  {
   "cell_type": "markdown",
   "metadata": {},
   "source": [
    "### Veriyle ilgili bilgi\n",
    "\n",
    "1. `info()` her sütunun türünü verir. \n",
    "2. `describe()` her (sayısal) sütunun dağılımı hakkında özet bilgi verir."
   ]
  },
  {
   "cell_type": "code",
   "execution_count": null,
   "metadata": {},
   "outputs": [],
   "source": [
    "dfi.info()"
   ]
  },
  {
   "cell_type": "markdown",
   "metadata": {},
   "source": [
    "🕯️ `describe` metoduyla `dfi`'ın özet istatistklerini gösterin"
   ]
  },
  {
   "cell_type": "markdown",
   "metadata": {},
   "source": [
    "## Kopya (Copy) ve Görünüm (View) Farkı\n",
    "\n",
    "`dfi_lr` veri çerçevesi aşağıda `dfi` veri çerçevesinden oluşturuldu. Verilerin kaç kopyasına sahibiz? Yalnızca verilere **baktığımız sürece** bu sorunun cevabı önemli değil.\n",
    "\n",
    "Aslında şu ana kadar elimizde yalnızca **tek** bir `dfi` kopyası var. Yeni veri çerçevesi, veriler kopyalanmadan *görünüm* olarak oluşturuldu. Bu davranışı kontrol etmenin kolay olmadığını  unutmayın."
   ]
  },
  {
   "cell_type": "code",
   "execution_count": null,
   "metadata": {},
   "outputs": [],
   "source": [
    "dfi_lr = dfi[dfi['Not']<10]\n",
    "dfi_lr"
   ]
  },
  {
   "cell_type": "code",
   "execution_count": null,
   "metadata": {},
   "outputs": [],
   "source": [
    "dfi.loc[\"Hekim_C\",\"Not\"] = 5\n",
    "dfi"
   ]
  },
  {
   "cell_type": "code",
   "execution_count": null,
   "metadata": {},
   "outputs": [],
   "source": [
    "dfi_lr"
   ]
  },
  {
   "cell_type": "markdown",
   "metadata": {},
   "source": [
    "Yukarıda `dfi` dataframe'indeki bir hücreye yeni bir değer atadık. `dfi_lr` bu dataframe'in görüntüsü olduğu için aynı değer onda da değişti.\n",
    "\n",
    "#### Veriyi kopyalama\n",
    "\n",
    "Aşağıda verilerin (görüntüden farklı olarak) bir kopyasını oluşturuyoruz.\n",
    " * Verilerin kopyalanması yer kaplar; gerekmedikçe verileri kopyalamamalıyız\n",
    " * Verileri değiştirirseniz değişiklikler tüm görünümleri etkileyecektir. Genellikle verileri değiştirmeden önce kopyalayın\n",
    " * Verilerin kopyalanıp kopyalanmadığından emin olmak her zaman kolay değildir"
   ]
  },
  {
   "cell_type": "code",
   "execution_count": null,
   "metadata": {},
   "outputs": [],
   "source": [
    "dfi_cp = dfi.copy()\n",
    "dfi.loc['Hekim_A','Not'] = 7\n",
    "dfi"
   ]
  },
  {
   "cell_type": "code",
   "execution_count": null,
   "metadata": {},
   "outputs": [],
   "source": [
    "dfi_cp"
   ]
  },
  {
   "cell_type": "markdown",
   "metadata": {},
   "source": [
    "## Veri Okuma\n",
    "\n",
    "Aşağıdaki hücre, not defteriyle aynı klasörde \"test.csv\" adında bir csv dosyası oluşturur. Bu dosyadaki veriler, [Kaggle](https://www.kaggle.com/datasets/vedavyasv/usa-housing/) adresinde bulunan *USA_Housing* veri kümelerinin ilk 10 satırından alınmıştır. Verideki bazı değerler rasgele silinmiştir (eksik değer). Veri setinin tamamını csv dosyası olarak indirebilir ve dilerseniz yükleyebilirsiniz."
   ]
  },
  {
   "cell_type": "code",
   "execution_count": null,
   "metadata": {},
   "outputs": [],
   "source": [
    "with open('test.csv', 'w') as f:\n",
    "    f.write(\n",
    "'''Avg. Area Income,Avg. Area House Age,Avg. Area Number of Rooms,Avg. Area Number of Bedrooms,Area Population,Price,Address\n",
    "79545.45857431678,5.682861321615587,7.009188142792237,4.09,23086.800502686456,1059033.5578701235,\"208 Michael Ferry Apt. 674 Laurabury, NE 37010-5101\"\n",
    "79248.64245482568,6.0028998082752425,6.730821019094919,3.09,40173.07217364482,1505890.91484695,\"188 Johnson Views Suite 079 Lake Kathleen, CA 48958\"\n",
    "61287.067178656784,5.865889840310001,8.512727430375099,5.13,36882.15939970458,1058987.9878760849,\"9127 Elizabeth Stravenue Danieltown, WI 06482-3489\"\n",
    "63345.24004622798,7.1882360945186425,5.586728664827653,3.26,34310.24283090706,,\"USS Barnett FPO AP 44820\"\n",
    "59982.197225708034,5.040554523106283,7.839387785120487,4.23,26354.109472103148,630943.4893385402,\"USNS Raymond FPO AE 09386\"\n",
    "80175.7541594853,4.9884077575337145,6.104512439428879,4.04,26748.428424689715,1068138.0743935304,\"06039 Jennifer Islands Apt. 443 Tracyport, KS 16077\"\n",
    "64698.46342788773,6.025335906887153,8.147759585023431,3.41,60828.24908540716,1502055.8173744078,\"4759 Daniel Shoals Suite 442 Nguyenburgh, CO 20247\"\n",
    "78394.33927753085,6.9897797477182815,6.620477995185026,,36516.358972493836,1573936.5644777215,\"972 Joyce Viaduct Lake William, TN 17778-6483\"\n",
    "59927.66081334963,5.36212556960358,6.3931209805509015,2.3,29387.39600281585,798869.5328331633,\"USS Gilbert FPO AA 20957\"\n",
    "81885.92718409566,4.423671789897876,8.167688003472351,6.1,40149.96574921337,1545154.8126419624,\"Unit 9446 Box 0958 DPO AE 97025\"\n",
    "''')\n"
   ]
  },
  {
   "cell_type": "markdown",
   "metadata": {},
   "source": [
    "Aşağıda yarattığımız `test.csv` i pandas data frame olarak okuyoruz. `head()` metoduyla ilk 5 satırını gösteriyoruz. "
   ]
  },
  {
   "cell_type": "code",
   "execution_count": null,
   "metadata": {},
   "outputs": [],
   "source": [
    "housing_sh = pd.read_csv('test.csv')\n",
    "housing_sh.head()\n"
   ]
  },
  {
   "cell_type": "markdown",
   "metadata": {},
   "source": [
    "`Address` değişkenini veriden çıkartıyoruz` ve sadece ortalama getirisi 60000 üzerinde olan bölgelerdeki evleri filtreliyoruz. "
   ]
  },
  {
   "cell_type": "code",
   "execution_count": null,
   "metadata": {},
   "outputs": [],
   "source": [
    "housing_sh = housing_sh.drop(['Address'],axis=1)\n",
    "housing_sh = housing_sh[housing_sh['Avg. Area Income'] > 60000]\n",
    "housing_sh.head()"
   ]
  },
  {
   "cell_type": "markdown",
   "metadata": {},
   "source": [
    "## Eksik Veriler\n",
    "\n",
    "Yukarıda `NaN` ile gördüğünüz değerler eksik verilerdir. Bunları `dropna` metoduyla çıkarabilir veya `fillna` metoduyla belirli bir değerle değiştirebilirsiniz."
   ]
  },
  {
   "cell_type": "code",
   "execution_count": null,
   "metadata": {},
   "outputs": [],
   "source": [
    "housing_full = housing_sh.dropna()\n",
    "housing_full.head()"
   ]
  },
  {
   "cell_type": "markdown",
   "metadata": {},
   "source": [
    "## Veriyi görselleştirme\n",
    "\n",
    "Veriyi `.plot` metodunu kullanarak görselleştirebiliriz. Bu iş Python'un `matplotlib` kütüphanesini kullanır"
   ]
  },
  {
   "cell_type": "code",
   "execution_count": null,
   "metadata": {},
   "outputs": [],
   "source": [
    "dfi.plot(kind=\"bar\", y = 'Not') \n"
   ]
  },
  {
   "cell_type": "code",
   "execution_count": null,
   "metadata": {},
   "outputs": [],
   "source": [
    "dfi.plot(kind=\"scatter\", x = 'Yıl', y = 'Not') "
   ]
  },
  {
   "cell_type": "markdown",
   "metadata": {},
   "source": [
    "## Farklı Görselleştirme Kütüphaneleri\n",
    "\n",
    "`seaborn` kütüphanesi veriden keşifsel analiz yapmak için opsiyonlar sunar.\n",
    "\n",
    "Önce `seaborn`u aktarmalıyız (import etmeliyiz)."
   ]
  },
  {
   "cell_type": "code",
   "execution_count": null,
   "metadata": {},
   "outputs": [],
   "source": [
    "import seaborn as sns\n",
    "sns.pairplot(housing_sh)\n"
   ]
  },
  {
   "cell_type": "code",
   "execution_count": null,
   "metadata": {},
   "outputs": [],
   "source": [
    "sns.heatmap(housing_sh.corr(), annot=True)\n"
   ]
  },
  {
   "cell_type": "markdown",
   "metadata": {},
   "source": [
    "## Düzenl veri\n",
    "\n",
    "Aşağıdaki veri Modül 2'de anlattığımız veri düzenleme prensiplerine uyuyor mu?\n"
   ]
  },
  {
   "cell_type": "code",
   "execution_count": null,
   "metadata": {},
   "outputs": [],
   "source": [
    "df_typical = pd.DataFrame({'treatmenta' : [None, 16, 3],\n",
    "                           'treatmentb': [2, 11, 1]}, ['Ged', 'Tenar', 'Tehanu'])\n",
    "df_typical"
   ]
  },
  {
   "cell_type": "markdown",
   "metadata": {},
   "source": [
    "Düzenli veri prensiplerine göre her sütun bir değişken olmalı ve her satır bir gözlem olmadı. Bu veride üç değişkeni ve altı gözlemi temsil eden 18 değerimiz var.\n",
    "\n",
    "Değişkenler:\n",
    "- **kişi**, üç olası değerle (Ged, Tenar, Tehanu)\n",
    "- **tedavi**, iki olası değerle (a ve b)\n",
    "- **sonuç**, eksik değer (NaN) dahil olmak üzere altı sonuç vardır (NaN, 2, 16, 11, 3, 1)\n",
    "\n",
    "❓ Bu veriyi düzenli veri prensiplerine uygun bir formata sokabilir miyiz?\n",
    "\n",
    "\n",
    "### `melt` metodu\n",
    "\n",
    "`melt` DataFrame'i geniş formattan uzun formata çıkarır. Verideki değişkenleri tanımlayıcı (`id_vars`) ve değer (`value_vars`) olarak tanımlayıp değişken ve değer isimli iki sütunlu formata dönüştürür.\n",
    "\n",
    "Önce satır endek isimlerini ayrı bir sütun yapalım:"
   ]
  },
  {
   "cell_type": "code",
   "execution_count": null,
   "metadata": {},
   "outputs": [],
   "source": [
    "df_typical['name'] = df_typical.index"
   ]
  },
  {
   "cell_type": "markdown",
   "metadata": {},
   "source": [
    "Daha sonra `melt` i kullanarak her bir satırı gözlem her bir sütunu da değişken haline dönüştürelim"
   ]
  },
  {
   "cell_type": "code",
   "execution_count": null,
   "metadata": {},
   "outputs": [],
   "source": [
    "df_typical.melt(id_vars=['name'],\n",
    "                value_vars=['treatmenta','treatmentb'], \n",
    "                var_name=\"treatment\",\n",
    "                value_name=\"result\")"
   ]
  },
  {
   "cell_type": "code",
   "execution_count": null,
   "metadata": {},
   "outputs": [],
   "source": [
    "pd.isna(housing_sh).sum()"
   ]
  },
  {
   "cell_type": "code",
   "execution_count": null,
   "metadata": {},
   "outputs": [],
   "source": [
    "df_typical = pd.DataFrame({'treatmenta' : [None, 16, 3],\n",
    "                           'treatmentb': [2, 11, 1]}, ['Ged', 'Tenar', 'Tehanu'])\n",
    "\n",
    "df_typical"
   ]
  },
  {
   "cell_type": "code",
   "execution_count": null,
   "metadata": {},
   "outputs": [],
   "source": [
    "df_typical['name'] = df_typical.index"
   ]
  },
  {
   "cell_type": "code",
   "execution_count": null,
   "metadata": {},
   "outputs": [],
   "source": [
    "df_tidy = df_typical.melt(id_vars=['name'],\n",
    "                value_vars=['treatmenta','treatmentb'], \n",
    "                var_name=\"treatment\",\n",
    "                value_name=\"result\")\n",
    "\n",
    "df_tidy"
   ]
  }
 ],
 "metadata": {
  "kernelspec": {
   "display_name": "pymc",
   "language": "python",
   "name": "python3"
  },
  "language_info": {
   "codemirror_mode": {
    "name": "ipython",
    "version": 3
   },
   "file_extension": ".py",
   "mimetype": "text/x-python",
   "name": "python",
   "nbconvert_exporter": "python",
   "pygments_lexer": "ipython3",
   "version": "3.11.5"
  }
 },
 "nbformat": 4,
 "nbformat_minor": 2
}
